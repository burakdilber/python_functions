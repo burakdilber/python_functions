def flatten(l, a):
    for i in l:
        if isinstance(i, list):
            flatten(i, a)
        else:
            a.append(i)
    return a
    
    
def Ters(lst): 
    lst.reverse() 
    return lst
